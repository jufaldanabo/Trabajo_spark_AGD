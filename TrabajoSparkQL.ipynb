{
 "cells": [
  {
   "cell_type": "markdown",
   "metadata": {},
   "source": [
    "# Análisis e Implementación en SparkQL\n",
    "\n",
    "* Entrega hasta el 24 de mayo en https://forms.gle/aRiWtjayausRFCTd8\n",
    "\n",
    "* Los dos conjuntos de datos entregados, CSV separados por coma, Evaluación del Pitch (2021.04.13 ISoftware).csv y Asistencia del Pitch (2021.04.13 ISoftware).csv proceden de dos encuestas realizadas con Google Forms.\n",
    "\n",
    "* Los archivos proceden de las evaluaciones de los pitch (exposiciones cortas de negocio) que realizan los estudiantes de la asignatura de Ingeniería de Software. Los estudiantes están organizados en equipos. Cada equipo realiza una presentación de máximo 15 minutos, una vez inicia la presentación todos los estudiantes deben registrar su asistencia lo cual queda registrado en 'Asistencia del Pitch (2021.04.13 ISoftware).csv' incluidos los miembros del equipo.\n",
    "\n",
    "* El archivo `Asistencia del Pitch (2021.04.13 ISoftware).csv` contiene las columnas: `\"Marca temporal\"` es tiempo dado en fecha y hora, `\"Nombre de usuario\"` es el correo electrónico del estudiante y es texto,`\"Equipo al que perteneces:\"` equipo de trabajo al que pertenece el estudiante también es texto y `\"Equipo que va a exponer:\"` equipo que el estudiante va a tender a su presentación.\n",
    "\n",
    "* El archivo `Evaluación del Pitch (2021.04.13 ISoftware).csv` contiene las columnas `\"Marca temporal\"` es tiempo dado en fecha y hora, `\"Nombre de usuario\"` es el correo electrónico del estudiante y es texto, `\"Equipo que vas a evaluar:\"` equipo que ha expuesto y que va a ser evaluado por cada estudiante que no sea integrante; a continuación, se tienen las siguientes columnas que corresponden a la evaluación de los respectivos ítems:\n",
    "\n",
    "    1. \"Introducción: El equipo responde adecuadamente ¿Quiénes son y por qué están aquí?\",\n",
    "    2. \"Equipo: El equipo responde adecuadamente ¿Quiénes están detrás de la idea y cuál es su función?\",\n",
    "    3. \"Problema: El equipo responde adecuadamente ¿Qué problema resolverá?, ¿es realmente un problema?\",\n",
    "    4. \"Ventajas: El equipo responde adecuadamente ¿Por qué su solución es especial?, ¿qué la hace distinta de otras?\",\n",
    "    5. \"Solución: El equipo responde adecuadamente ¿Cómo piensa resolver el problema?\",\n",
    "    6. \"Producto: El equipo responde adecuadamente ¿Cómo funciona el producto o servicio? Muestra algunos ejemplos.\",\n",
    "    7. \"Tracción: El equipo responde adecuadamente si cuenta con clientes que demuestran potencial.\",\n",
    "    8. \"Mercado: El equipo responde conoce, o por lo menos intentar predecir, el tamaño del mercado que impactará.\",\n",
    "    9. \"Competencia: El equipo responde adecuadamente ¿Cuáles son las soluciones alternativas al problema que plantea?\",\n",
    "    10. \"Modelo de negocio: El equipo responde adecuadamente ¿Cómo hará dinero? \",\n",
    "    11. \"Inversión: El equipo responde adecuadamente ¿Cuál es su presupuesto y cuánto espera ganar?\",\n",
    "    12. \"Contacto: El equipo deja los datos al cliente y muestra cómo pueden contactarle.\",\n",
    "    13. \"Exposición: ¿Qué tan coordinados estaban los expositores?\",\n",
    "    14. \"Exposición: ¿Los expositores se expresaron con claridad y se hicieron entender?\",\n",
    "    15. \"Exposición: Las diapositivas son claras y coherentes y apoyaron adecuadamente la exposición.\",\n",
    "    * \"Suponiendo que eres inversionista, ¿Estarías dispuesto a invertir dinero en este equipo? (esta pregunta no se pondera en la nota)\",\n",
    "    * \"Observaciones para el equipo, estas observaciones las debe considerar el equipo para mejorar la siguiente presentación.\"\n",
    "\n",
    "\n",
    "* Cada ítem se evalúa con la siguiente escala: 0. Ausente; 1. Deficiente; 2. Regular; 3. Aceptable; 4. Bueno; 5. Excelente\n",
    "\n",
    "* Carge los datos, cada archivo en una tabla SparkSQL y responda cada una de las consultas dadas en cada celda. Tenga en cuenta que algunas consultas pueden tener como resultado el vacío."
   ]
  },
  {
   "cell_type": "markdown",
   "metadata": {},
   "source": [
    "# Integrantes del equipo\n",
    "1. Yuliana Franco Noreña\n",
    "2. Laura Isaza Echeverri\n",
    "3. Juan Fernando Aldana Bohorquez\n",
    "4.\n",
    "5."
   ]
  },
  {
   "cell_type": "code",
   "execution_count": 1,
   "metadata": {},
   "outputs": [],
   "source": [
    "# Agrege acá el código para importar las librerias\n",
    "\n",
    "# La libreria para \"encontrar el sevicio\" de Spark\n",
    "import findspark\n",
    "findspark.init()\n",
    "\n",
    "# Librerias para \"gestionar el servicio\" de Spark\n",
    "from pyspark import SparkConf, SparkContext\n",
    "from pyspark.sql import SQLContext, SparkSession\n",
    "\n",
    "# Creamos una aplicación Spark en el Servicio\n",
    "# Tenga cuidado con las tildes o caracteres especiales en el nombre de la app\n",
    "AppSpark = SparkConf().setAppName(\"Evaluacion iSofware\")\n",
    "\n",
    "# definimos un espacio o contexto para la App\n",
    "ContextoSpark=SparkContext(conf=AppSpark)\n",
    "\n",
    "# inicio una sesión en el espacio de la App\n",
    "SesionSpark = SparkSession(ContextoSpark)\n",
    "\n",
    "# inicio del espacio o contexto SQL\n",
    "ContextoSql = SQLContext(sparkContext=ContextoSpark, sparkSession=SesionSpark)"
   ]
  },
  {
   "cell_type": "code",
   "execution_count": null,
   "metadata": {},
   "outputs": [],
   "source": [
    "# 1. Cargue los datos en la carpeta datalake y luego del /datalake al HDFS (Hadoop File System)\n",
    "# Recuerda usar ! para ejecutar el comando en el shell. \n",
    "# Tu código a continuación...\n",
    "!hadoop fs -put asistencia1.csv\n",
    "!hadoop fs -put EvaluaPitch.csv"
   ]
  },
  {
   "cell_type": "code",
   "execution_count": 2,
   "metadata": {},
   "outputs": [
    {
     "data": {
      "text/plain": [
       "DataFrame[]"
      ]
     },
     "execution_count": 2,
     "metadata": {},
     "output_type": "execute_result"
    }
   ],
   "source": [
    "# 2. Cree dos tablas SparkSQL y almacene el csv en su correspondiente tabla.\n",
    "# Observación: tenga especial cuidado con los encabezados de los archivos CSV.\n",
    "# Usted puede considerar cambiar los encabezados de los CSV originales\n",
    "# Tu código a continuación...\n",
    "\n",
    "\n",
    "ContextoSql.sql(\"\"\"\n",
    "CREATE TABLE\n",
    "  tabla_asistencia\n",
    "  USING CSV\n",
    "OPTIONS (path 'asistencia1.csv', header 'true')\n",
    "\"\"\")\n",
    "\n",
    "ContextoSql.sql(\"\"\"\n",
    "CREATE TABLE\n",
    "  tabla_evaluacion\n",
    "  USING CSV\n",
    "OPTIONS (path 'EvaluaPitch.csv', header 'true')\n",
    "\"\"\")\n"
   ]
  },
  {
   "cell_type": "code",
   "execution_count": 3,
   "metadata": {},
   "outputs": [
    {
     "name": "stdout",
     "output_type": "stream",
     "text": [
      "+--------+----------------+-----------+\n",
      "|database|       tableName|isTemporary|\n",
      "+--------+----------------+-----------+\n",
      "| default|tabla_asistencia|      false|\n",
      "| default|tabla_evaluacion|      false|\n",
      "+--------+----------------+-----------+\n",
      "\n"
     ]
    }
   ],
   "source": [
    "ContextoSql.sql('show tables').show();"
   ]
  },
  {
   "cell_type": "code",
   "execution_count": 4,
   "metadata": {},
   "outputs": [
    {
     "name": "stdout",
     "output_type": "stream",
     "text": [
      "+--------------------+--------------------+--------------------+--------------------+\n",
      "|      Marca_temporal|   Nombre_de_usuario|   Equipo_perteneces|      Equipo_exponer|\n",
      "+--------------------+--------------------+--------------------+--------------------+\n",
      "|2021/04/08 8:07:5...|jppinedal@unal.ed...|Pertenezco a: Ser...|Expone: Servicios...|\n",
      "|2021/04/08 8:09:3...|dgarciabl@unal.ed...|Pertenezco a: Lo ...|Expone: Lo tengo ...|\n",
      "|2021/04/08 8:09:5...|auarbelaeza@unal....|Pertenezco a: Ges...|Expone: Te lo cam...|\n",
      "|2021/04/08 8:09:5...|jmunozhe@unal.edu.co|Pertenezco a: Lo ...|Expone: Te lo cam...|\n",
      "|2021/04/08 8:10:0...|dgerenal@unal.edu.co|Pertenezco a: Te ...|Expone: Te lo cam...|\n",
      "+--------------------+--------------------+--------------------+--------------------+\n",
      "only showing top 5 rows\n",
      "\n"
     ]
    }
   ],
   "source": [
    "consultaasistencia = ContextoSql.sql(\"\"\"SELECT * FROM tabla_asistencia\"\"\")\n",
    "consultaasistencia.show(5)"
   ]
  },
  {
   "cell_type": "code",
   "execution_count": 5,
   "metadata": {},
   "outputs": [
    {
     "name": "stdout",
     "output_type": "stream",
     "text": [
      "root\n",
      " |-- Marca_temporal: string (nullable = true)\n",
      " |-- Nombre_de_usuario: string (nullable = true)\n",
      " |-- Equipo_perteneces: string (nullable = true)\n",
      " |-- Equipo_exponer: string (nullable = true)\n",
      "\n"
     ]
    }
   ],
   "source": [
    "consultaasistencia.printSchema()"
   ]
  },
  {
   "cell_type": "code",
   "execution_count": 6,
   "metadata": {},
   "outputs": [
    {
     "name": "stdout",
     "output_type": "stream",
     "text": [
      "+--------------------+\n",
      "|   Nombre_de_usuario|\n",
      "+--------------------+\n",
      "| abanolc@unal.edu.co|\n",
      "|acastrillonv@unal...|\n",
      "| aflemag@unal.edu.co|\n",
      "|anapariciom@unal....|\n",
      "|angutierrezb@unal...|\n",
      "|anoriega@unal.edu.co|\n",
      "|auarbelaeza@unal....|\n",
      "| bocampo@unal.edu.co|\n",
      "|cgiraldo@unal.edu.co|\n",
      "|cjfunezg@unal.edu.co|\n",
      "|cquinchiar@unal.e...|\n",
      "| dadazam@unal.edu.co|\n",
      "|daestradam@unal.e...|\n",
      "|davgarciava@unal....|\n",
      "|dballesteroso@una...|\n",
      "|  dbrito@unal.edu.co|\n",
      "|dcadavid@unal.edu.co|\n",
      "|dcardonaal@unal.e...|\n",
      "|dchavarriar@unal....|\n",
      "|dgarciabl@unal.ed...|\n",
      "|dgerenal@unal.edu.co|\n",
      "|dgiraldolo@unal.e...|\n",
      "|dguardia@unal.edu.co|\n",
      "|dosoriom@unal.edu.co|\n",
      "| eapenad@unal.edu.co|\n",
      "+--------------------+\n",
      "only showing top 25 rows\n",
      "\n"
     ]
    }
   ],
   "source": [
    "# 2. Consulte el listado total de estudiantes (correos electrónicos) del \n",
    "# curso de Ingeniería de Software, ordenados alfabéticamente\n",
    "# Tu código a continuación...\n",
    "students = ContextoSql.sql(\"\"\"SELECT DISTINCT Nombre_de_usuario\n",
    "FROM tabla_asistencia\n",
    "ORDER BY Nombre_de_usuario ASC\n",
    "\"\"\")\n",
    "students.show(25)"
   ]
  },
  {
   "cell_type": "code",
   "execution_count": 7,
   "metadata": {},
   "outputs": [
    {
     "name": "stdout",
     "output_type": "stream",
     "text": [
      "+-------------------------+--------+-------------------+-------------------+\n",
      "|Nombre_de_usuario        |CANTIDAD|Minimo             |Maximo             |\n",
      "+-------------------------+--------+-------------------+-------------------+\n",
      "|abanolc@unal.edu.co      |7       |2021-04-08 08:12:14|2021-04-13 09:37:56|\n",
      "|acastrillonv@unal.edu.co |8       |2021-04-08 08:13:06|2021-04-13 09:43:13|\n",
      "|aflemag@unal.edu.co      |8       |2021-04-08 08:11:58|2021-04-13 09:41:54|\n",
      "|anapariciom@unal.edu.co  |10      |2021-04-08 08:11:49|2021-04-13 09:38:51|\n",
      "|angutierrezb@unal.edu.co |8       |2021-04-08 08:19:06|2021-04-13 09:43:54|\n",
      "|anoriega@unal.edu.co     |8       |2021-04-08 08:15:18|2021-04-13 09:40:20|\n",
      "|auarbelaeza@unal.edu.co  |8       |2021-04-08 08:09:53|2021-04-13 09:41:04|\n",
      "|bocampo@unal.edu.co      |8       |2021-04-08 08:13:30|2021-04-13 09:42:16|\n",
      "|cgiraldo@unal.edu.co     |8       |2021-04-08 08:44:23|2021-04-13 09:56:44|\n",
      "|cjfunezg@unal.edu.co     |8       |2021-04-08 08:12:15|2021-04-13 09:41:46|\n",
      "|cquinchiar@unal.edu.co   |6       |2021-04-08 08:33:32|2021-04-13 09:49:09|\n",
      "|dadazam@unal.edu.co      |9       |2021-04-08 08:13:18|2021-04-13 09:41:14|\n",
      "|daestradam@unal.edu.co   |8       |2021-04-08 08:10:39|2021-04-13 09:44:39|\n",
      "|davgarciava@unal.edu.co  |8       |2021-04-08 08:13:45|2021-04-13 09:42:39|\n",
      "|dballesteroso@unal.edu.co|8       |2021-04-08 08:14:23|2021-04-13 09:49:07|\n",
      "|dbrito@unal.edu.co       |7       |2021-04-08 08:19:07|2021-04-13 09:41:36|\n",
      "|dcadavid@unal.edu.co     |8       |2021-04-08 08:13:07|2021-04-13 09:40:58|\n",
      "|dcardonaal@unal.edu.co   |8       |2021-04-08 08:12:03|2021-04-13 09:42:14|\n",
      "|dchavarriar@unal.edu.co  |8       |2021-04-08 08:13:08|2021-04-13 09:43:56|\n",
      "|dgarciabl@unal.edu.co    |9       |2021-04-08 08:09:39|2021-04-13 09:41:04|\n",
      "|dgerenal@unal.edu.co     |8       |2021-04-08 08:10:03|2021-04-13 09:41:27|\n",
      "|dgiraldolo@unal.edu.co   |8       |2021-04-08 08:12:03|2021-04-13 09:09:01|\n",
      "|dguardia@unal.edu.co     |8       |2021-04-08 08:12:56|2021-04-13 09:40:35|\n",
      "|dosoriom@unal.edu.co     |7       |2021-04-08 08:28:12|2021-04-13 09:57:53|\n",
      "|eapenad@unal.edu.co      |8       |2021-04-08 08:12:51|2021-04-13 09:39:49|\n",
      "+-------------------------+--------+-------------------+-------------------+\n",
      "only showing top 25 rows\n",
      "\n"
     ]
    }
   ],
   "source": [
    "# 3. Consulte la cantidad de asistencias registradas por estudiante; además, la fecha y hora de la primera asistencia\n",
    "# y la fecha y hora de la última asistencia\n",
    "# Tu código a continuación...\n",
    "\n",
    "students_count = ContextoSql.sql(\"\"\"\n",
    "  SELECT Nombre_de_usuario,COUNT(Nombre_de_usuario) AS CANTIDAD, MIN(CAST(UNIX_TIMESTAMP(REPLACE(SUBSTRING(Marca_temporal,1,18),\"/\",\"-\"),\"yyyy-MM-dd HH:mm:ss\") AS TIMESTAMP)) AS Minimo,\n",
    "         MAX(CAST(UNIX_TIMESTAMP(REPLACE(SUBSTRING(Marca_temporal,1,18),\"/\",\"-\"),\"yyyy-MM-dd HH:mm:ss\") AS TIMESTAMP)) AS Maximo\n",
    "FROM tabla_asistencia\n",
    "GROUP BY Nombre_de_usuario\n",
    "ORDER BY Nombre_de_usuario ASC\n",
    "\"\"\")\n",
    "students_count.show(25,truncate =False)"
   ]
  },
  {
   "cell_type": "code",
   "execution_count": 8,
   "metadata": {},
   "outputs": [
    {
     "name": "stdout",
     "output_type": "stream",
     "text": [
      "+---------------------+------+\n",
      "|Nombre_de_usuario    |Conteo|\n",
      "+---------------------+------+\n",
      "|jdroldano@unal.edu.co|1     |\n",
      "+---------------------+------+\n",
      "\n"
     ]
    }
   ],
   "source": [
    "# 4. Consulte el listado de estudiantes que asistieron a 2 presentaciones o menos (una).\n",
    "# Tu código a continuación...\n",
    "asistencia_presentaciones= ContextoSql.sql(\"\"\"\n",
    "SELECT * FROM(SELECT Nombre_de_usuario, COUNT(Nombre_de_usuario) AS Conteo\n",
    "FROM tabla_asistencia \n",
    "GROUP BY Nombre_de_usuario\n",
    "ORDER BY Conteo ASC)\n",
    "WHERE Conteo <= 2\n",
    "\n",
    "\"\"\")\n",
    "\n",
    "asistencia_presentaciones.show(5, truncate=False)"
   ]
  },
  {
   "cell_type": "code",
   "execution_count": 9,
   "metadata": {},
   "outputs": [
    {
     "name": "stdout",
     "output_type": "stream",
     "text": [
      "+-----------------+\n",
      "|Nombre_de_usuario|\n",
      "+-----------------+\n",
      "+-----------------+\n",
      "\n"
     ]
    }
   ],
   "source": [
    "# 5. Consulte el listado de estudiantes que no asistieron a ninguna presentación.\n",
    "# Tu código a continuación...\n",
    "asistencianulos= ContextoSql.sql(\"\"\"\n",
    "SELECT Nombre_de_usuario \n",
    "FROM tabla_evaluacion \n",
    "WHERE El_equipo_responde_adecuadamente = 0\n",
    "\n",
    "\"\"\")\n",
    "asistencianulos.show()"
   ]
  },
  {
   "cell_type": "code",
   "execution_count": 10,
   "metadata": {},
   "outputs": [
    {
     "name": "stdout",
     "output_type": "stream",
     "text": [
      "+------------------------------------------------------+------+\n",
      "|Nombre_equipo                                         |Conteo|\n",
      "+------------------------------------------------------+------+\n",
      "| Lo tengo y te lo presto.                             |87    |\n",
      "| Gestión de Residencias y Habitaciones Universitarias.|86    |\n",
      "| Gestión de programas curriculares                    |73    |\n",
      "| Mi Sanandresito                                      |83    |\n",
      "| Servicios a domicilio                                |65    |\n",
      "| Administración de Inmuebles                          |95    |\n",
      "| Te lo cambio.                                        |89    |\n",
      "| Gestión de Menús Ejecutivos                          |84    |\n",
      "+------------------------------------------------------+------+\n",
      "\n"
     ]
    }
   ],
   "source": [
    "# 6. Consulte los integrantes por cada equipo al que pertenecen.\n",
    "# Tu código a continuación...\n",
    "\n",
    "equipo_pertenece= ContextoSql.sql(\"\"\"\n",
    "SELECT SUBSTRING(Equipo_perteneces, 14, 55) AS Nombre_equipo, COUNT(Equipo_perteneces) AS Conteo\n",
    "FROM tabla_asistencia \n",
    "GROUP BY Nombre_equipo\n",
    "\"\"\")\n",
    "\n",
    "equipo_pertenece.show(10, truncate=False)\n"
   ]
  },
  {
   "cell_type": "code",
   "execution_count": 11,
   "metadata": {},
   "outputs": [
    {
     "name": "stdout",
     "output_type": "stream",
     "text": [
      "+------------------------------------------------------+------+\n",
      "|Nombre_exponer                                        |Conteo|\n",
      "+------------------------------------------------------+------+\n",
      "| Lo tengo y te lo presto.                             |75    |\n",
      "| Gestión de Residencias y Habitaciones Universitarias.|72    |\n",
      "| Gestión de programas curriculares                    |74    |\n",
      "| Mi Sanandresito                                      |72    |\n",
      "| Deserción de estudiantes                             |3     |\n",
      "| Servicios a domicilio                                |76    |\n",
      "| Administración de Inmuebles                          |70    |\n",
      "| Te lo cambio.                                        |75    |\n",
      "| Gestión de Menús Ejecutivos                          |72    |\n",
      "+------------------------------------------------------+------+\n",
      "\n"
     ]
    }
   ],
   "source": [
    "# 7. Consulte la cantidad de asistentes por presentación, sin considerar los asistentes que pertenecen \n",
    "# al equipo que realizó la presentación.\n",
    "# Tu código a continuación...\n",
    "\n",
    "presentaciones= ContextoSql.sql(\"\"\"\n",
    "SELECT SUBSTRING(Equipo_Exponer, 8, 55) AS Nombre_exponer, COUNT(Equipo_Exponer) AS Conteo\n",
    "FROM tabla_asistencia \n",
    "WHERE SUBSTRING(Equipo_perteneces, 14, 55) <> SUBSTRING(Equipo_Exponer, 8, 55)\n",
    "GROUP BY Nombre_exponer\n",
    "\"\"\")\n",
    "\n",
    "presentaciones.show(10, truncate=False)\n"
   ]
  },
  {
   "cell_type": "code",
   "execution_count": 12,
   "metadata": {},
   "outputs": [
    {
     "name": "stdout",
     "output_type": "stream",
     "text": [
      "+-------------------------+------+\n",
      "|Nombre_de_usuario        |Conteo|\n",
      "+-------------------------+------+\n",
      "|jovillarrealm@unal.edu.co|2     |\n",
      "|sasalazarr@unal.edu.co   |2     |\n",
      "|jspatinoa@unal.edu.co    |2     |\n",
      "|dgarciabl@unal.edu.co    |2     |\n",
      "|nvalenciat@unal.edu.co   |1     |\n",
      "|jruedat@unal.edu.co      |1     |\n",
      "|serendona@unal.edu.co    |1     |\n",
      "|dcadavid@unal.edu.co     |1     |\n",
      "|dgerenal@unal.edu.co     |1     |\n",
      "|juriveras@unal.edu.co    |1     |\n",
      "+-------------------------+------+\n",
      "only showing top 10 rows\n",
      "\n"
     ]
    }
   ],
   "source": [
    "# 8. Consutar cuáles integrantes evaluaron a su propio equipo. Estas evaluaciones no serán válidas, pues un\n",
    "# integrante no puede evaluar a su propio equipo.\n",
    "# Tu código a continuación...\n",
    "\n",
    "evaluaciones_iguales= ContextoSql.sql(\"\"\"\n",
    "SELECT Nombre_de_usuario, COUNT(Nombre_de_usuario) AS Conteo\n",
    "FROM tabla_asistencia \n",
    "WHERE SUBSTRING(Equipo_perteneces, 14, 55) = SUBSTRING(Equipo_Exponer, 8, 55)\n",
    "GROUP BY Nombre_de_usuario\n",
    "ORDER BY Conteo DESC\n",
    "\"\"\")\n",
    "\n",
    "evaluaciones_iguales.show(10, truncate=False)"
   ]
  },
  {
   "cell_type": "code",
   "execution_count": 13,
   "metadata": {},
   "outputs": [
    {
     "name": "stdout",
     "output_type": "stream",
     "text": [
      "+-----+-----+-----+-----+-----+-----+-----+-----+-----+------+------+------+------+------+------+\n",
      "|Nota1|Nota2|Nota3|Nota4|Nota5|Nota6|Nota7|Nota8|Nota9|Nota10|Nota11|Nota12|Nota13|Nota14|Nota15|\n",
      "+-----+-----+-----+-----+-----+-----+-----+-----+-----+------+------+------+------+------+------+\n",
      "|4.364|4.298|4.378|4.169|4.382|4.437|4.246|4.333|4.183| 4.411| 4.225| 4.512| 4.436| 4.432| 4.467|\n",
      "+-----+-----+-----+-----+-----+-----+-----+-----+-----+------+------+------+------+------+------+\n",
      "\n"
     ]
    }
   ],
   "source": [
    "# 9. Consultar la nota promedio por cada ítem (1 al 15), y la nota promedio total del cada equipo. Recuerde que no\n",
    "# son válidas las evaluaciones realizadas por los miembros del mismo equipo.\n",
    "# Tu código a continuación...\n",
    "notas= ContextoSql.sql(\"\"\"\n",
    "SELECT ROUND(AVG(INT(El_equipo_responde_adecuadamente)),3) AS Nota1,\n",
    "       ROUND(AVG(INT(Quienes_estan_detras_de_la_idea)),3) AS Nota2,\n",
    "       ROUND(AVG(INT(Que_problema_resolvera)),3) AS Nota3,\n",
    "       ROUND(AVG(INT(Por_que_su_solucion_es_especial)),3) AS Nota4,\n",
    "       ROUND(AVG(INT(Como_piensa_resolver_el_problema)),3) AS Nota5,\n",
    "       ROUND(AVG(INT(Como_funciona_el_producto)),3) AS Nota6,\n",
    "       ROUND(AVG(INT(cuenta_con_clientes_que_demuestran_potencial)),3) AS Nota7,\n",
    "       ROUND(AVG(INT(predecir_el_tamano_del_mercado)),3) AS Nota8,\n",
    "       ROUND(AVG(INT(Cuales_son_las_soluciones_alternativas)),3) AS Nota9,\n",
    "       ROUND(AVG(INT(Como_hara_dinero)),3) AS Nota10,\n",
    "       ROUND(AVG(INT(Cual_es_su_presupuesto)),3) AS Nota11,\n",
    "       ROUND(AVG(INT(cliente_y_muestra_como_pueden_contactarle)),3) AS Nota12,\n",
    "       ROUND(AVG(INT(Que_tan_coordinados_estaban_los_expositores)),3) AS Nota13,\n",
    "       ROUND(AVG(INT(Los_expositores_se_expresaron_con_claridad)),3) AS Nota14,\n",
    "       ROUND(AVG(INT(Las_diapositivas_son_claras)),3) AS Nota15\n",
    "FROM tabla_evaluacion \n",
    "\n",
    "\"\"\")\n",
    "notas.show()\n",
    "\n"
   ]
  },
  {
   "cell_type": "code",
   "execution_count": 14,
   "metadata": {},
   "outputs": [
    {
     "name": "stdout",
     "output_type": "stream",
     "text": [
      "+--------------------+-----+-----+-----+-----+-----+-----+-----+-----+-----+------+------+------+------+------+------+\n",
      "|       Nombre_Equipo|Nota1|Nota2|Nota3|Nota4|Nota5|Nota6|Nota7|Nota8|Nota9|Nota10|Nota11|Nota12|Nota13|Nota14|Nota15|\n",
      "+--------------------+-----+-----+-----+-----+-----+-----+-----+-----+-----+------+------+------+------+------+------+\n",
      "| Gestión de Menús...|4.102|3.949|4.177|3.908|4.133|4.352|4.132|4.282|4.128| 4.299| 4.096| 4.344| 4.331| 4.412| 4.402|\n",
      "| Lo tengo y te lo...| 4.11|4.002|4.197|3.839| 4.21|4.235|4.192|4.278|3.772| 4.065| 3.899| 4.233| 4.206| 4.165|  4.23|\n",
      "| Administración d...|4.503| 4.45|4.538|4.329|4.521|4.584|4.402|4.367|4.309|  4.39| 4.307| 4.714| 4.505| 4.452| 4.567|\n",
      "| Servicios a domi...|4.401|4.292|4.416| 4.27|4.394|4.327|4.183|4.332|4.069| 4.567| 4.213| 4.369| 4.389| 4.384| 4.339|\n",
      "|       Te lo cambio.|4.379| 4.44|4.582|4.375|4.388|4.244|4.326|4.341|4.313| 4.407| 4.403| 4.601| 4.396| 4.509| 4.584|\n",
      "| Gestión de Resid...|4.008|4.023|3.893|3.741|4.163| 4.25|3.792|4.034|3.812| 4.173| 3.869| 4.315| 4.341| 4.165| 4.212|\n",
      "| Gestión de progr...|4.733|4.653|4.597|4.472|4.619|4.708|4.519|4.673|4.548| 4.682| 4.428| 4.766| 4.682| 4.768| 4.661|\n",
      "|     Mi Sanandresito|4.726| 4.63|4.699|4.536|4.693|4.855|4.509| 4.44|4.603| 4.843| 4.681| 4.773| 4.714| 4.658| 4.785|\n",
      "+--------------------+-----+-----+-----+-----+-----+-----+-----+-----+-----+------+------+------+------+------+------+\n",
      "\n"
     ]
    }
   ],
   "source": [
    "join= ContextoSql.sql(\"\"\"SELECT SUBSTRING(tabla_asistencia.Equipo_perteneces, 14, 55) AS Nombre_Equipo, \n",
    "                                ROUND(AVG(INT(tabla_evaluacion.El_equipo_responde_adecuadamente)),3) AS Nota1,\n",
    "                                ROUND(AVG(INT(tabla_evaluacion.Quienes_estan_detras_de_la_idea)),3) AS Nota2, \n",
    "                                ROUND(AVG(INT(tabla_evaluacion.Que_problema_resolvera)),3) AS Nota3,\n",
    "                                ROUND(AVG(INT(tabla_evaluacion.Por_que_su_solucion_es_especial)),3) AS Nota4,\n",
    "                                ROUND(AVG(INT(tabla_evaluacion.Como_piensa_resolver_el_problema)),3) AS Nota5,\n",
    "                                ROUND(AVG(INT(tabla_evaluacion.Como_funciona_el_producto)),3) AS Nota6,\n",
    "                                ROUND(AVG(INT(tabla_evaluacion.cuenta_con_clientes_que_demuestran_potencial)),3) AS Nota7,\n",
    "                                ROUND(AVG(INT(tabla_evaluacion.predecir_el_tamano_del_mercado)),3) AS Nota8,\n",
    "                                ROUND(AVG(INT(tabla_evaluacion.Cuales_son_las_soluciones_alternativas)),3) AS Nota9,\n",
    "                                ROUND(AVG(INT(tabla_evaluacion.Como_hara_dinero)),3) AS Nota10,\n",
    "                                ROUND(AVG(INT(tabla_evaluacion.Cual_es_su_presupuesto)),3) AS Nota11,\n",
    "                                ROUND(AVG(INT(tabla_evaluacion.cliente_y_muestra_como_pueden_contactarle)),3) AS Nota12,\n",
    "                                ROUND(AVG(INT(tabla_evaluacion.Que_tan_coordinados_estaban_los_expositores)),3) AS Nota13,\n",
    "                                ROUND(AVG(INT(tabla_evaluacion.Los_expositores_se_expresaron_con_claridad)),3) AS Nota14,\n",
    "                                ROUND(AVG(INT(tabla_evaluacion.Las_diapositivas_son_claras)),3) AS Nota15  FROM tabla_asistencia                                   \n",
    "                                LEFT JOIN tabla_evaluacion ON tabla_asistencia.Nombre_de_usuario = tabla_evaluacion.Nombre_de_usuario  \n",
    "                               WHERE SUBSTRING(tabla_asistencia.Equipo_perteneces, 14, 55) <> SUBSTRING(tabla_asistencia.Equipo_Exponer, 8, 55)\n",
    "                               GROUP BY tabla_asistencia.Equipo_perteneces\n",
    "                                    \n",
    "\"\"\")\n",
    "join.show()         \n"
   ]
  },
  {
   "cell_type": "code",
   "execution_count": 15,
   "metadata": {},
   "outputs": [],
   "source": [
    "# 10. Consulte el mejor equipo evaluado por cada ítem (según nota promedio. En caso de empate mostrar todos los empatados) \n",
    "# y el mejor equipo según el promedio total.\n",
    "# Tu código a continuación...\n",
    "from pyspark.sql.functions import array, col, explode, lit, struct\n",
    "from pyspark.sql import DataFrame\n",
    "from typing import Iterable\n",
    "\n",
    "def melt_df(\n",
    "        df: DataFrame,\n",
    "        id_vars: Iterable[str], value_vars: Iterable[str],\n",
    "        var_name: str=\"variable\", value_name: str=\"value\") -> DataFrame:\n",
    "    \n",
    "\n",
    "    \n",
    "    _vars_and_vals = array(*(\n",
    "        struct(lit(c).alias(var_name), col(c).alias(value_name))\n",
    "        for c in value_vars))\n",
    "\n",
    "    \n",
    "    _tmp = df.withColumn(\"_vars_and_vals\", explode(_vars_and_vals))\n",
    "\n",
    "    cols = id_vars + [\n",
    "            col(\"_vars_and_vals\")[x].alias(x) for x in [var_name, value_name]]\n",
    "    return _tmp.select(*cols)\n",
    "\n",
    "columns_names = ['Nombre_Equipo',\n",
    " 'Nota1',\n",
    " 'Nota2',\n",
    " 'Nota3',\n",
    " 'Nota4',\n",
    " 'Nota5',\n",
    " 'Nota6',\n",
    " 'Nota7',\n",
    " 'Nota8',\n",
    " 'Nota9',\n",
    " 'Nota10',\n",
    " 'Nota11',\n",
    " 'Nota12',\n",
    " 'Nota13',\n",
    " 'Nota14',\n",
    " 'Nota15']\n",
    "\n",
    "melt_join = melt_df(join, ['Nombre_Equipo'], columns_names[1:16], 'Nota', 'Valor')\n",
    "\n"
   ]
  },
  {
   "cell_type": "code",
   "execution_count": 25,
   "metadata": {},
   "outputs": [
    {
     "name": "stdout",
     "output_type": "stream",
     "text": [
      "+-----+------+--------------------+\n",
      "|Valor|  Nota|       Nombre_Equipo|\n",
      "+-----+------+--------------------+\n",
      "|4.855| Nota6|     Mi Sanandresito|\n",
      "|4.768|Nota14| Gestión de progr...|\n",
      "|4.733| Nota1| Gestión de progr...|\n",
      "|4.699| Nota3|     Mi Sanandresito|\n",
      "|4.673| Nota8| Gestión de progr...|\n",
      "|4.536| Nota4|     Mi Sanandresito|\n",
      "|4.773|Nota12|     Mi Sanandresito|\n",
      "|4.843|Nota10|     Mi Sanandresito|\n",
      "|4.519| Nota7| Gestión de progr...|\n",
      "|4.693| Nota5|     Mi Sanandresito|\n",
      "|4.714|Nota13|     Mi Sanandresito|\n",
      "|4.785|Nota15|     Mi Sanandresito|\n",
      "|4.603| Nota9|     Mi Sanandresito|\n",
      "|4.681|Nota11|     Mi Sanandresito|\n",
      "|4.653| Nota2| Gestión de progr...|\n",
      "+-----+------+--------------------+\n",
      "\n"
     ]
    }
   ],
   "source": [
    "notamaxima = melt_join.select(\"Nota\",\"Valor\").groupby(\"Nota\").max()\n",
    "notamaxima = notamaxima.toDF(\"Nota\", \"Valor\")\n",
    "notamaxima_equipo = notamaxima.join(melt_join, on=[\"Valor\",\"Nota\"], how='left')\n",
    "notamaxima_equipo.show(20)"
   ]
  },
  {
   "cell_type": "code",
   "execution_count": 26,
   "metadata": {},
   "outputs": [
    {
     "name": "stdout",
     "output_type": "stream",
     "text": [
      "+----------------+-----------------+\n",
      "|   Nombre_Equipo|            Valor|\n",
      "+----------------+-----------------+\n",
      "| Mi Sanandresito|4.676333333333332|\n",
      "+----------------+-----------------+\n",
      "only showing top 1 row\n",
      "\n"
     ]
    }
   ],
   "source": [
    "notaequipo = melt_join.groupby(\"Nombre_Equipo\").mean()\n",
    "notaequipo = notaequipo.toDF(\"Nombre_Equipo\", \"Valor\")\n",
    "mejorequipo = notaequipo.orderBy(\"Valor\", ascending=False)\n",
    "mejorequipo.show(1)"
   ]
  },
  {
   "cell_type": "code",
   "execution_count": 27,
   "metadata": {},
   "outputs": [
    {
     "name": "stdout",
     "output_type": "stream",
     "text": [
      "+------+--------------------+-----+\n",
      "|  Nota|       Nombre_Equipo|Valor|\n",
      "+------+--------------------+-----+\n",
      "| Nota2| Gestión de Menús...|3.949|\n",
      "|Nota11| Gestión de Resid...|3.869|\n",
      "| Nota4| Gestión de Resid...|3.741|\n",
      "| Nota5| Gestión de Menús...|4.133|\n",
      "| Nota1| Gestión de Resid...|4.008|\n",
      "|Nota14| Lo tengo y te lo...|4.165|\n",
      "|Nota14| Gestión de Resid...|4.165|\n",
      "| Nota8| Gestión de Resid...|4.034|\n",
      "|Nota10| Lo tengo y te lo...|4.065|\n",
      "|Nota12| Lo tengo y te lo...|4.233|\n",
      "|Nota15| Gestión de Resid...|4.212|\n",
      "| Nota6| Lo tengo y te lo...|4.235|\n",
      "| Nota7| Gestión de Resid...|3.792|\n",
      "|Nota13| Lo tengo y te lo...|4.206|\n",
      "| Nota9| Lo tengo y te lo...|3.772|\n",
      "| Nota3| Gestión de Resid...|3.893|\n",
      "+------+--------------------+-----+\n",
      "\n"
     ]
    }
   ],
   "source": [
    "# 11. Consulte el peor equipo evaluado por cada ítem (según nota promedio. En caso de empate mostrar todos los empatados) \n",
    "# y el peor equipo según el promedio total.\n",
    "# Tu código a continuación...\n",
    "\n",
    "notaminima = melt_join.groupby(\"Nota\").min()\n",
    "notaminima = notaminima.toDF(\"Nota\", \"Valor\")\n",
    "notaminima_equipo = notaminima.join(melt_join, on=[\"Valor\",\"Nota\"], how='left')\n",
    "notaminima_equipo = notaminima_equipo.select(\"Nota\",\"Nombre_Equipo\",\"Valor\")\n",
    "notaminima_equipo.show(20)\n"
   ]
  },
  {
   "cell_type": "code",
   "execution_count": 29,
   "metadata": {},
   "outputs": [
    {
     "name": "stdout",
     "output_type": "stream",
     "text": [
      "+--------------------+-----------------+\n",
      "|       Nombre_Equipo|            Valor|\n",
      "+--------------------+-----------------+\n",
      "| Gestión de Resid...|4.052733333333333|\n",
      "+--------------------+-----------------+\n",
      "only showing top 1 row\n",
      "\n"
     ]
    }
   ],
   "source": [
    "peorequipo = notaequipo.orderBy(\"Valor\", ascending=True)\n",
    "peorequipo.show(1)\n"
   ]
  },
  {
   "cell_type": "code",
   "execution_count": 119,
   "metadata": {},
   "outputs": [
    {
     "name": "stdout",
     "output_type": "stream",
     "text": [
      "+--------------------+-----------------+\n",
      "|   Nombre_de_usuario|            Valor|\n",
      "+--------------------+-----------------+\n",
      "|dgarciabl@unal.ed...|4.108866666666667|\n",
      "|jmunozhe@unal.edu.co|4.108866666666667|\n",
      "|daestradam@unal.e...|4.108866666666667|\n",
      "|jlopezpe@unal.edu.co|4.108866666666667|\n",
      "|lbarcelo@unal.edu.co|4.108866666666667|\n",
      "|jlopezpe@unal.edu.co|4.108866666666667|\n",
      "|jfernandezmo@unal...|4.108866666666667|\n",
      "|dgiraldolo@unal.e...|4.108866666666667|\n",
      "|jhcordoba@unal.ed...|4.108866666666667|\n",
      "|jubuitrago@unal.e...|4.108866666666667|\n",
      "|jcorreapa@unal.ed...|4.108866666666667|\n",
      "| wocampo@unal.edu.co|4.108866666666667|\n",
      "|jlopezpe@unal.edu.co|4.108866666666667|\n",
      "|jlopezpe@unal.edu.co|4.108866666666667|\n",
      "|daestradam@unal.e...|4.108866666666667|\n",
      "|lbarcelo@unal.edu.co|4.108866666666667|\n",
      "|jmunozhe@unal.edu.co|4.108866666666667|\n",
      "|jfernandezmo@unal...|4.108866666666667|\n",
      "|jcorreapa@unal.ed...|4.108866666666667|\n",
      "|dgiraldolo@unal.e...|4.108866666666667|\n",
      "+--------------------+-----------------+\n",
      "only showing top 20 rows\n",
      "\n"
     ]
    }
   ],
   "source": [
    "# 12. Consulte la lista de estudiantes con la correspondiente nota obtenida en la presentación \n",
    "# (nota promedio total de la evaluación obtenida por el equipo)\n",
    "# Tu código a continuación...\n",
    "\n",
    "estudiantes = ContextoSql.sql(\"\"\"SELECT Nombre_de_usuario,SUBSTRING(Equipo_perteneces, 14, 55) AS Nombre_Equipo FROM tabla_asistencia\"\"\")\n",
    "estudiantes_nota =  estudiantes.join(notaequipo, on=[\"Nombre_Equipo\"], how='left')\n",
    "estudiantes_nota = estudiantes_nota.select(\"Nombre_de_usuario\",\"Valor\")\n",
    "notaminima = notaminima.toDF(\"Nombre_de_usuario\", \"Nota\")\n",
    "estudiantes_nota.show()\n"
   ]
  },
  {
   "cell_type": "code",
   "execution_count": 30,
   "metadata": {},
   "outputs": [
    {
     "name": "stdout",
     "output_type": "stream",
     "text": [
      "+--------------------+-----------------+\n",
      "|       Nombre_Equipo|            Valor|\n",
      "+--------------------+-----------------+\n",
      "| Lo tengo y te lo...|4.108866666666667|\n",
      "| Gestión de Resid...|4.052733333333333|\n",
      "| Gestión de progr...|4.633933333333333|\n",
      "|     Mi Sanandresito|4.676333333333332|\n",
      "| Servicios a domi...|4.329666666666667|\n",
      "| Administración d...|4.462533333333334|\n",
      "|       Te lo cambio.|           4.4192|\n",
      "| Gestión de Menús...|4.203133333333333|\n",
      "+--------------------+-----------------+\n",
      "\n"
     ]
    }
   ],
   "source": [
    "notaequipo.show()"
   ]
  }
 ],
 "metadata": {
  "kernelspec": {
   "display_name": "Python 3",
   "language": "python",
   "name": "python3"
  },
  "language_info": {
   "codemirror_mode": {
    "name": "ipython",
    "version": 3
   },
   "file_extension": ".py",
   "mimetype": "text/x-python",
   "name": "python",
   "nbconvert_exporter": "python",
   "pygments_lexer": "ipython3",
   "version": "3.6.9"
  }
 },
 "nbformat": 4,
 "nbformat_minor": 4
}
